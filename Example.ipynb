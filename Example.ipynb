{
 "cells": [
  {
   "cell_type": "code",
   "execution_count": 1,
   "id": "bb6d0c93",
   "metadata": {},
   "outputs": [],
   "source": [
    "import pandas as pd\n",
    "from FeatureEngineering import *"
   ]
  },
  {
   "cell_type": "code",
   "execution_count": 2,
   "id": "92c30090",
   "metadata": {},
   "outputs": [],
   "source": [
    "X = pd.read_csv('mthly_agg_raw.csv')"
   ]
  },
  {
   "cell_type": "code",
   "execution_count": 3,
   "id": "967bdee6",
   "metadata": {},
   "outputs": [
    {
     "name": "stdout",
     "output_type": "stream",
     "text": [
      "\n",
      "    Performs following operations:\n",
      "        - divides x into 2 periods i.e. n1, and n2, where n1 + n2 \n",
      "          is less than or equal to len(x).\n",
      "        - aggregates x for each period using `agg` function.\n",
      "        - performs the operation (`operand`) between two aggregated \n",
      "          outputs.\n",
      "    \n",
      "    Parameters\n",
      "    ----------\n",
      "    start : int, default=1\n",
      "        Number of the most recent period.\n",
      "    \n",
      "    stop : int, default=1\n",
      "        Number of the latter period.\n",
      "    \n",
      "    attr : str, default=\"less_equal\"\n",
      "        Sum of permuted pair must satisfies `attr` and `n_period` \n",
      "        condition e.g. start + stop <= 2. The accepted string function \n",
      "        names follows numpy operation functions.\n",
      "    \n",
      "    n_period : int, default=2\n",
      "        A threshold of sum of permuted pair.\n",
      "    \n",
      "    agg : str or function, default=\"mean\"\n",
      "        Function to use for aggregating the data. If a function, it \n",
      "        must compute the aggregation of the flattened array only. The \n",
      "        accepted string function names follows numpy operation \n",
      "        functions.\n",
      " \n",
      "    operand: str or function, default=\"divide\"\n",
      "        If str, it follows numpy operation functions i.e. \"subtract\", \n",
      "        \"add\", \"divide\", and \"multiply\". If a function, it must \n",
      "        accept 2 parameters i.e. `x1` and `x2` as inputs.\n",
      "        \n",
      "    n_chars : int, default=10\n",
      "        Number of characters to be kept as part of variable name i.e. \n",
      "        \"{`agg`}_n{`n1`}_{`operand`}_n{`n2`}\". This applies only to \n",
      "        `agg` and `operand`. \n",
      "        \n",
      "    \n"
     ]
    }
   ],
   "source": [
    "print(TimebaseFeatures.__doc__)"
   ]
  },
  {
   "cell_type": "code",
   "execution_count": 4,
   "id": "9b2a9ea7",
   "metadata": {},
   "outputs": [
    {
     "name": "stdout",
     "output_type": "stream",
     "text": [
      "\n",
      "        Fit model.\n",
      "        \n",
      "        Parameters\n",
      "        ----------\n",
      "        X : DataFrame of shape (n_samples, n_features)\n",
      "            `X` must be sorted by date-time. if order is descending, `n1` \n",
      "            represents the most recent period while `n2` is the latter.\n",
      "        \n",
      "        by : list of labels\n",
      "            Used to determine the groups for the group-by. \n",
      "            \n",
      "        columns : list of labels, default=None\n",
      "            List of column labels to be aggregated. If None, it defaults \n",
      "            to columns, whose dtype is either int or float.\n",
      "            \n",
      "        Attributes\n",
      "        ----------\n",
      "        func : dict\n",
      "            Key represents column name, and value contains list of \n",
      "            aggregation functions e.g. {'feature_01': [\"mean\", \"sum\"]}.\n",
      "        \n",
      "        Returns\n",
      "        -------\n",
      "        self\n",
      "        \n",
      "        \n"
     ]
    }
   ],
   "source": [
    "print(TimebaseFeatures().fit.__doc__)"
   ]
  },
  {
   "cell_type": "code",
   "execution_count": 6,
   "id": "f78bd52b",
   "metadata": {},
   "outputs": [
    {
     "name": "stdout",
     "output_type": "stream",
     "text": [
      "\n",
      "        Transform X into aggregated X.\n",
      "        \n",
      "        Parameters\n",
      "        ----------\n",
      "        X : DataFrame of shape (n_samples, n_features)\n",
      "            `X` must be sorted by date-time. if order is descending, `n1` \n",
      "            represents the most recent period while `n2` is the latter.\n",
      "            \n",
      "        join : bool, default=False\n",
      "            If True, it joins MultiIndex columns with \"_\" e.g. \n",
      "            from MultiIndex([\"feature_01\",\"mean\"]) to \"feature_01_mean\".\n",
      "            \n",
      "        Returns\n",
      "        -------\n",
      "        grouped_X : DataFrame of shape (n_groups, n_newfeatures)\n",
      "            An aggregated X, where n_groups is number of unique keys, \n",
      "            and n_newfeatures is n_features * n_funcs.\n",
      "            \n",
      "        \n"
     ]
    }
   ],
   "source": [
    "print(TimebaseFeatures().transform.__doc__)"
   ]
  },
  {
   "cell_type": "code",
   "execution_count": 5,
   "id": "128c50bb",
   "metadata": {},
   "outputs": [
    {
     "data": {
      "text/plain": [
       "<FeatureEngineering.TimebaseFeatures at 0x23153e89910>"
      ]
     },
     "execution_count": 5,
     "metadata": {},
     "output_type": "execute_result"
    }
   ],
   "source": [
    "fe = TimebaseFeatures(start=1, stop=5, n_periods=3, operand=\"add\")\n",
    "fe.fit(X[[\"mthly_sum_amt_out\"]], by=[\"apl_grp_no\"])"
   ]
  },
  {
   "cell_type": "code",
   "execution_count": 7,
   "id": "29c781ef",
   "metadata": {},
   "outputs": [
    {
     "data": {
      "text/html": [
       "<div>\n",
       "<style scoped>\n",
       "    .dataframe tbody tr th:only-of-type {\n",
       "        vertical-align: middle;\n",
       "    }\n",
       "\n",
       "    .dataframe tbody tr th {\n",
       "        vertical-align: top;\n",
       "    }\n",
       "\n",
       "    .dataframe thead tr th {\n",
       "        text-align: left;\n",
       "    }\n",
       "\n",
       "    .dataframe thead tr:last-of-type th {\n",
       "        text-align: right;\n",
       "    }\n",
       "</style>\n",
       "<table border=\"1\" class=\"dataframe\">\n",
       "  <thead>\n",
       "    <tr>\n",
       "      <th></th>\n",
       "      <th colspan=\"2\" halign=\"left\">mthly_sum_amt_out</th>\n",
       "    </tr>\n",
       "    <tr>\n",
       "      <th></th>\n",
       "      <th>Mean_n1_Add_n2</th>\n",
       "      <th>Mean_n2_Add_n1</th>\n",
       "    </tr>\n",
       "    <tr>\n",
       "      <th>apl_grp_no</th>\n",
       "      <th></th>\n",
       "      <th></th>\n",
       "    </tr>\n",
       "  </thead>\n",
       "  <tbody>\n",
       "    <tr>\n",
       "      <th>DS-B2206230B071</th>\n",
       "      <td>2.019070e+06</td>\n",
       "      <td>2075235.645</td>\n",
       "    </tr>\n",
       "    <tr>\n",
       "      <th>DS-B22062504918</th>\n",
       "      <td>2.146151e+05</td>\n",
       "      <td>196819.930</td>\n",
       "    </tr>\n",
       "    <tr>\n",
       "      <th>DS-B22062703DB5</th>\n",
       "      <td>4.309030e+05</td>\n",
       "      <td>339954.060</td>\n",
       "    </tr>\n",
       "    <tr>\n",
       "      <th>DS-B22062704D15</th>\n",
       "      <td>1.029185e+07</td>\n",
       "      <td>7992693.000</td>\n",
       "    </tr>\n",
       "    <tr>\n",
       "      <th>DS-B22062705014</th>\n",
       "      <td>3.013986e+05</td>\n",
       "      <td>325695.395</td>\n",
       "    </tr>\n",
       "    <tr>\n",
       "      <th>...</th>\n",
       "      <td>...</td>\n",
       "      <td>...</td>\n",
       "    </tr>\n",
       "    <tr>\n",
       "      <th>QR-9131157</th>\n",
       "      <td>2.326649e+06</td>\n",
       "      <td>2126589.135</td>\n",
       "    </tr>\n",
       "    <tr>\n",
       "      <th>QR-9131167</th>\n",
       "      <td>4.843110e+05</td>\n",
       "      <td>431110.000</td>\n",
       "    </tr>\n",
       "    <tr>\n",
       "      <th>QR-9144715</th>\n",
       "      <td>7.482852e+05</td>\n",
       "      <td>750176.180</td>\n",
       "    </tr>\n",
       "    <tr>\n",
       "      <th>QR-9147615</th>\n",
       "      <td>6.073019e+05</td>\n",
       "      <td>754185.980</td>\n",
       "    </tr>\n",
       "    <tr>\n",
       "      <th>QR-9147618</th>\n",
       "      <td>2.771850e+06</td>\n",
       "      <td>2854651.830</td>\n",
       "    </tr>\n",
       "  </tbody>\n",
       "</table>\n",
       "<p>11781 rows × 2 columns</p>\n",
       "</div>"
      ],
      "text/plain": [
       "                mthly_sum_amt_out               \n",
       "                   Mean_n1_Add_n2 Mean_n2_Add_n1\n",
       "apl_grp_no                                      \n",
       "DS-B2206230B071      2.019070e+06    2075235.645\n",
       "DS-B22062504918      2.146151e+05     196819.930\n",
       "DS-B22062703DB5      4.309030e+05     339954.060\n",
       "DS-B22062704D15      1.029185e+07    7992693.000\n",
       "DS-B22062705014      3.013986e+05     325695.395\n",
       "...                           ...            ...\n",
       "QR-9131157           2.326649e+06    2126589.135\n",
       "QR-9131167           4.843110e+05     431110.000\n",
       "QR-9144715           7.482852e+05     750176.180\n",
       "QR-9147615           6.073019e+05     754185.980\n",
       "QR-9147618           2.771850e+06    2854651.830\n",
       "\n",
       "[11781 rows x 2 columns]"
      ]
     },
     "execution_count": 7,
     "metadata": {},
     "output_type": "execute_result"
    }
   ],
   "source": [
    "fe.transform(X, join=False)"
   ]
  },
  {
   "cell_type": "code",
   "execution_count": null,
   "id": "8e22f331",
   "metadata": {},
   "outputs": [],
   "source": []
  }
 ],
 "metadata": {
  "kernelspec": {
   "display_name": "Python 3 (ipykernel)",
   "language": "python",
   "name": "python3"
  },
  "language_info": {
   "codemirror_mode": {
    "name": "ipython",
    "version": 3
   },
   "file_extension": ".py",
   "mimetype": "text/x-python",
   "name": "python",
   "nbconvert_exporter": "python",
   "pygments_lexer": "ipython3",
   "version": "3.9.12"
  }
 },
 "nbformat": 4,
 "nbformat_minor": 5
}
